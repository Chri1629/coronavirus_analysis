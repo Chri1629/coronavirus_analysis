{
 "cells": [
  {
   "cell_type": "code",
   "execution_count": 6,
   "metadata": {},
   "outputs": [],
   "source": [
    "import requests\n",
    "import csv, re\n",
    "import pandas as pd"
   ]
  },
  {
   "cell_type": "code",
   "execution_count": 20,
   "metadata": {},
   "outputs": [],
   "source": [
    "page_prov = requests.get(\"https://raw.githubusercontent.com/pcm-dpc/COVID-19/master/dati-province/dpc-covid19-ita-province.csv\")\n",
    "page_reg = requests.get(\"https://raw.githubusercontent.com/pcm-dpc/COVID-19/master/dati-regioni/dpc-covid19-ita-regioni.csv\")"
   ]
  },
  {
   "cell_type": "code",
   "execution_count": 37,
   "metadata": {},
   "outputs": [],
   "source": [
    "df = pd.read_csv(\"dati_regioni.csv\")"
   ]
  },
  {
   "cell_type": "code",
   "execution_count": 18,
   "metadata": {},
   "outputs": [],
   "source": [
    "# split the long string into a list of lines\n",
    "data_p = page_prov.content.decode('utf-8').splitlines()\n",
    "data_r = page_reg.content.decode('utf-8').splitlines()"
   ]
  },
  {
   "cell_type": "code",
   "execution_count": 41,
   "metadata": {},
   "outputs": [],
   "source": [
    "with open(\"dati_province.csv\", \"w\", encoding = \"utf-8\") as csv_file:\n",
    "    writer = csv.writer(csv_file, delimiter = \",\")\n",
    "    for line in data_p:\n",
    "        writer.writerow(re.split(',+', line))"
   ]
  },
  {
   "cell_type": "code",
   "execution_count": 36,
   "metadata": {
    "tags": []
   },
   "outputs": [],
   "source": [
    "with open(\"dati_regioni.csv\", \"w\", encoding = \"utf-8\") as csv_file:\n",
    "    writer = csv.writer(csv_file, delimiter = \",\")\n",
    "    for line in data_r:\n",
    "        l = re.split(',+', line)\n",
    "        if len(l) > 21:\n",
    "            l = l[:21]\n",
    "        \n",
    "        writer.writerow(l)"
   ]
  }
 ],
 "metadata": {
  "language_info": {
   "codemirror_mode": {
    "name": "ipython",
    "version": 3
   },
   "file_extension": ".py",
   "mimetype": "text/x-python",
   "name": "python",
   "nbconvert_exporter": "python",
   "pygments_lexer": "ipython3",
   "version": 3
  },
  "orig_nbformat": 2,
  "kernelspec": {
   "name": "python_defaultSpec_1594894621398",
   "display_name": "Python 3.6.1 64-bit"
  }
 },
 "nbformat": 4,
 "nbformat_minor": 2
}